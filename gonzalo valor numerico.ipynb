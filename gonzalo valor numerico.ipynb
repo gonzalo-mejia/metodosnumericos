{
 "cells": [
  {
   "cell_type": "markdown",
   "metadata": {},
   "source": [
    "taller metodos numericos\n",
    "1. escribir la fisica del problema: ecuacio0n diferencial, solucion analitica.\n",
    "2. solucionar numericamente la ecuacion diferencial(metodo de euler).\n",
    "3. comparar con solucion analitica\n",
    "4. a partir d los datos de la solucion numerica, hacer la dierenciacion numerica y comparar con la analitica.\n",
    "5. hacr el analisis del error."
   ]
  },
  {
   "cell_type": "markdown",
   "metadata": {},
   "source": [
    "partiendo de la segunda ley de Newton:\n",
    "\n",
    "\\begin{equation}\n",
    "\\ F=F_{g} + F_{a}\n",
    "\\end{equation}\n",
    "\n",
    "encontramos la ecuacion diferencial \n",
    "\n",
    "\\begin{equation}\n",
    "\\frac{dv}{dt}= g- \\frac{c}{m}v\n",
    "\\end{equation}\n",
    "\n",
    "con la ecuacion diferencial hallamos la solucion analitica\n",
    "\n",
    "\\begin{equation}\n",
    "\\ v= \\frac{gm}{c}\\left ( 1- e^{\\frac{-c}{m}t} \\right )\n",
    "\\end{equation}\n",
    "    "
   ]
  },
  {
   "cell_type": "code",
   "execution_count": 4,
   "metadata": {},
   "outputs": [],
   "source": [
    "from pylab import plot, show, legend\n",
    "from math import exp"
   ]
  },
  {
   "cell_type": "code",
   "execution_count": 9,
   "metadata": {},
   "outputs": [
    {
     "data": {
      "text/plain": [
       "<function matplotlib.pyplot.show(*args, **kw)>"
      ]
     },
     "execution_count": 9,
     "metadata": {},
     "output_type": "execute_result"
    },
    {
     "data": {
      "image/png": "[encoded data removed]",
      "text/plain": [
       "<Figure size 432x288 with 1 Axes>"
      ]
     },
     "metadata": {
      "needs_background": "light"
     },
     "output_type": "display_data"
    }
   ],
   "source": [
    "vnum=[]\n",
    "tp=[]\n",
    "vana=[]\n",
    "\n",
    "dlt=1\n",
    "g=9.8\n",
    "m=68.1\n",
    "c=12.5\n",
    "vi=0\n",
    "\n",
    "for t in range (21):\n",
    "    \n",
    "    vi=vi+((c/m)*vi-g)*dlt\n",
    "    v=(m*g/c)*(1-exp(c*t/m))\n",
    "    \n",
    "    vnum.append (vi)\n",
    "    tp.append (t)\n",
    "    vana.append (v)\n",
    "    \n",
    "\n",
    "\n",
    "plot (tp,vnum)\n",
    "plot (tp,vana)\n",
    "show\n"
   ]
  },
  {
   "cell_type": "code",
   "execution_count": 16,
   "metadata": {},
   "outputs": [
    {
     "ename": "TypeError",
     "evalue": "'int' object is not subscriptable",
     "output_type": "error",
     "traceback": [
      "\u001b[0;31m---------------------------------------------------------------------------\u001b[0m",
      "\u001b[0;31mTypeError\u001b[0m                                 Traceback (most recent call last)",
      "\u001b[0;32m<ipython-input-16-9de377e082e0>\u001b[0m in \u001b[0;36m<module>\u001b[0;34m\u001b[0m\n\u001b[1;32m     13\u001b[0m \u001b[0;32mfor\u001b[0m \u001b[0mt\u001b[0m \u001b[0;32min\u001b[0m \u001b[0mrange\u001b[0m \u001b[0;34m(\u001b[0m\u001b[0;36m1\u001b[0m\u001b[0;34m,\u001b[0m \u001b[0;36m21\u001b[0m\u001b[0;34m)\u001b[0m\u001b[0;34m:\u001b[0m\u001b[0;34m\u001b[0m\u001b[0m\n\u001b[1;32m     14\u001b[0m \u001b[0;34m\u001b[0m\u001b[0m\n\u001b[0;32m---> 15\u001b[0;31m     \u001b[0mv1\u001b[0m\u001b[0;34m=\u001b[0m\u001b[0;34m(\u001b[0m\u001b[0mv1\u001b[0m\u001b[0;34m[\u001b[0m\u001b[0mn\u001b[0m\u001b[0;34m+\u001b[0m\u001b[0;36m1\u001b[0m\u001b[0;34m]\u001b[0m\u001b[0;34m+\u001b[0m\u001b[0;34m(\u001b[0m\u001b[0;34m(\u001b[0m\u001b[0mc\u001b[0m\u001b[0;34m/\u001b[0m\u001b[0mm\u001b[0m\u001b[0;34m)\u001b[0m\u001b[0;34m*\u001b[0m\u001b[0mv1\u001b[0m\u001b[0;34m[\u001b[0m\u001b[0mn\u001b[0m\u001b[0;34m-\u001b[0m\u001b[0;36m1\u001b[0m\u001b[0;34m]\u001b[0m\u001b[0;34m-\u001b[0m\u001b[0mg\u001b[0m\u001b[0;34m)\u001b[0m\u001b[0;34m)\u001b[0m\u001b[0;34m/\u001b[0m\u001b[0;36m2\u001b[0m\u001b[0;34m*\u001b[0m\u001b[0mdlt1\u001b[0m\u001b[0;34m\u001b[0m\u001b[0m\n\u001b[0m\u001b[1;32m     16\u001b[0m     \u001b[0mv\u001b[0m\u001b[0;34m=\u001b[0m\u001b[0;34m(\u001b[0m\u001b[0mm\u001b[0m\u001b[0;34m*\u001b[0m\u001b[0mg\u001b[0m\u001b[0;34m/\u001b[0m\u001b[0mc\u001b[0m\u001b[0;34m)\u001b[0m\u001b[0;34m*\u001b[0m\u001b[0;34m(\u001b[0m\u001b[0;36m1\u001b[0m\u001b[0;34m-\u001b[0m\u001b[0mexp\u001b[0m\u001b[0;34m(\u001b[0m\u001b[0mc\u001b[0m\u001b[0;34m*\u001b[0m\u001b[0mt\u001b[0m\u001b[0;34m/\u001b[0m\u001b[0mm\u001b[0m\u001b[0;34m)\u001b[0m\u001b[0;34m)\u001b[0m\u001b[0;34m\u001b[0m\u001b[0m\n\u001b[1;32m     17\u001b[0m \u001b[0;34m\u001b[0m\u001b[0m\n",
      "\u001b[0;31mTypeError\u001b[0m: 'int' object is not subscriptable"
     ]
    }
   ],
   "source": [
    "vnum1=[]\n",
    "vana=[]\n",
    "tp=[]\n",
    "\n",
    "dlt1=1\n",
    "g=9.8\n",
    "m=68.1\n",
    "c=12.5\n",
    "n=200\n",
    "\n",
    "v1=0\n",
    "\n",
    "for t in range (1, 21):\n",
    "    \n",
    "    v1=(v1[n+1]+((c/m)*v1[n-1]-g))/2*dlt1\n",
    "    v=(m*g/c)*(1-exp(c*t/m))\n",
    "    \n",
    "    vnum1.append (v1)\n",
    "    tp.append (t)\n",
    "    vana.append (v)\n",
    "    \n",
    "plot (tp,vnum1, label='dlt=1')\n",
    "plot (tp,vana, label='analitico')\n",
    "legend(loc='upper right')\n",
    "show"
   ]
  },
  {
   "cell_type": "code",
   "execution_count": null,
   "metadata": {},
   "outputs": [],
   "source": []
  }
 ],
 "metadata": {
  "kernelspec": {
   "display_name": "Python 3",
   "language": "python",
   "name": "python3"
  },
  "language_info": {
   "codemirror_mode": {
    "name": "ipython",
    "version": 3
   },
   "file_extension": ".py",
   "mimetype": "text/x-python",
   "name": "python",
   "nbconvert_exporter": "python",
   "pygments_lexer": "ipython3",
   "version": "3.5.2"
  }
 },
 "nbformat": 4,
 "nbformat_minor": 2
}
