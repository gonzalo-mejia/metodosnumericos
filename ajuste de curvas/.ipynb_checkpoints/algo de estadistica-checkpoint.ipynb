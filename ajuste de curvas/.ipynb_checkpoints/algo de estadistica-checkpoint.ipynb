{
 "cells": [
  {
   "cell_type": "code",
   "execution_count": 13,
   "metadata": {},
   "outputs": [],
   "source": [
    "from numpy import loadtxt, shape\n",
    "from matplotlib.pyplot import plot as plt\n",
    "from pylab import plot, show\n",
    "import matplotlib.pyplot as plt"
   ]
  },
  {
   "cell_type": "code",
   "execution_count": 14,
   "metadata": {},
   "outputs": [],
   "source": [
    "data = loadtxt('thermal_expan.dat', comments=\"//\")"
   ]
  },
  {
   "cell_type": "code",
   "execution_count": 19,
   "metadata": {},
   "outputs": [
    {
     "data": {
      "image/png": "[encoded data removed]",
      "text/plain": [
       "<Figure size 432x288 with 1 Axes>"
      ]
     },
     "metadata": {
      "needs_background": "light"
     },
     "output_type": "display_data"
    }
   ],
   "source": [
    "\n",
    "dts=[]\n",
    "pos=[]\n",
    "\n",
    "for i in range(len(data)):\n",
    "    dts.append(data[i])\n",
    "    pos.append(i)\n",
    "\n",
    "plt.plot(pos,dts,'o')\n",
    "show()"
   ]
  },
  {
   "cell_type": "code",
   "execution_count": 23,
   "metadata": {},
   "outputs": [
    {
     "name": "stdout",
     "output_type": "stream",
     "text": [
      "6.600000000000001\n"
     ]
    }
   ],
   "source": [
    "#media\n",
    "\n",
    "m=0\n",
    "\n",
    "for j in range(len(data)):\n",
    "    m=m+data[j]/len(data)\n",
    "\n",
    "print(m)"
   ]
  },
  {
   "cell_type": "code",
   "execution_count": 25,
   "metadata": {},
   "outputs": [
    {
     "name": "stdout",
     "output_type": "stream",
     "text": [
      "0.009434782608695668\n"
     ]
    }
   ],
   "source": [
    "#varianza\n",
    "\n",
    "v=0\n",
    "\n",
    "for k in range(len(data)):\n",
    "    v=v+(data[k]-m)**2/(len(data)-1)\n",
    "    \n",
    "print(v)\n"
   ]
  },
  {
   "cell_type": "code",
   "execution_count": null,
   "metadata": {},
   "outputs": [],
   "source": []
  }
 ],
 "metadata": {
  "kernelspec": {
   "display_name": "Python 3",
   "language": "python",
   "name": "python3"
  },
  "language_info": {
   "codemirror_mode": {
    "name": "ipython",
    "version": 3
   },
   "file_extension": ".py",
   "mimetype": "text/x-python",
   "name": "python",
   "nbconvert_exporter": "python",
   "pygments_lexer": "ipython3",
   "version": "3.5.2"
  }
 },
 "nbformat": 4,
 "nbformat_minor": 2
}
